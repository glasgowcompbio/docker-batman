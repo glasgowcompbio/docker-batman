{
 "cells": [
  {
   "cell_type": "code",
   "execution_count": 5,
   "metadata": {
    "collapsed": false
   },
   "outputs": [
    {
     "name": "stdout",
     "output_type": "stream",
     "text": [
      "The autoreload extension is already loaded. To reload it, use:\n",
      "  %reload_ext autoreload\n"
     ]
    },
    {
     "data": {
      "text/html": [
       "<script>requirejs.config({paths: { 'plotly': ['https://cdn.plot.ly/plotly-latest.min']},});if(!window.Plotly) {{require(['plotly'],function(plotly) {window.Plotly=plotly;});}}</script>"
      ],
      "text/plain": [
       "<IPython.core.display.HTML object>"
      ]
     },
     "metadata": {},
     "output_type": "display_data"
    }
   ],
   "source": [
    "%load_ext autoreload\n",
    "%autoreload 2\n",
    "%matplotlib inline\n",
    "\n",
    "# initialise plotly in offline mode\n",
    "from plotly.offline import init_notebook_mode\n",
    "init_notebook_mode(connected=True)"
   ]
  },
  {
   "cell_type": "code",
   "execution_count": 9,
   "metadata": {
    "collapsed": true
   },
   "outputs": [],
   "source": [
    "import math\n",
    "import numpy as np\n",
    "import pylab as plt"
   ]
  },
  {
   "cell_type": "code",
   "execution_count": 13,
   "metadata": {
    "collapsed": true
   },
   "outputs": [],
   "source": [
    "def pretty_print_array(a):\n",
    "\t\"\"\"\n",
    "\tPrint an array with nice line wrapping\n",
    "\t\"\"\"\n",
    " \n",
    "\t# Exercise: make it print out row and column indices, correctly aligned\n",
    " \n",
    "\tfor i in range(len(a)):\n",
    "\t\tfor j in range(len(a[i])):\n",
    "\t\t\tif a[i][j] == (None,None):\n",
    "\t\t\t\tprint \"(-, -)\",\n",
    "\t\t\telse:\n",
    "\t\t\t\tprint a[i][j],\n",
    "\t\tprint\n",
    " \n",
    " \n",
    "def local_distance(template_frame, test_frame):\n",
    "\t\"\"\"\n",
    "\tCompute the Euclidean distance between two feature 'vectors' (which must actually be ints)\n",
    "\t\"\"\"\n",
    " \n",
    "\t# Exercise: improve the function to accept vectors instead of scalars\n",
    " \n",
    "\t# sanity check, assuming we are working with ints\n",
    "# \tassert type(template_frame) == type(test_frame) == int\n",
    " \n",
    "\t# Exercise: what sanity check would you perform when using floats?\n",
    "\t# Exercise: what sanity check(s) could you perform when using vectors of floats?\n",
    " \n",
    "\t# in one dimension, taking the square and then the square root gives the\n",
    "\t#  same result as taking the absolute value\n",
    "\t#  but we will implement it this way to make it obvious how to make the function\n",
    "\t#  work in higher dimensions\n",
    "\treturn math.sqrt(  pow(template_frame - test_frame , 2)  )\n",
    " \n",
    " \n",
    "def dtw(template, test):\n",
    "\t\"\"\"\n",
    "\tPerform Dynamic Time Warping between two sequences \n",
    "\t\"\"\"\n",
    " \n",
    "\tglobal_distance=0\n",
    "\talignment=[]\n",
    " \n",
    "\t# the backpointer and global_distance datastructures will have dimensions of len(template) x len (test)\n",
    "\t# \n",
    "\t# they could be combined as an array of some class that we would have to define\n",
    "\t#  and that class would contain both the global distance and the backpointer for each position\n",
    " \n",
    "\t# Exercise: improve the datastructure along the lines suggested above\n",
    " \n",
    " \n",
    "\t# a data structure to hold the backpointers\n",
    "\t#  this is an array (implemented as a list of lists)\n",
    "\t# \n",
    "\t# the backpointers are tuples of two values, pointing to the previous cell\n",
    "\t#  we will initialise them with empty values here\n",
    "\tbackpointer=[]\n",
    "\tempty_backpointer=(None,None)\n",
    "\tfor i in range(len(template)):\n",
    "\t\tthis_row=[]\n",
    "\t\tfor j in range(len(test)):\n",
    "\t\t\tthis_row.append(empty_backpointer)\n",
    "\t\tbackpointer.append(this_row)\n",
    " \n",
    "\t# Exercise: make the verbosity of the code controllable\n",
    "\t#  without having to comment lines such as the following out\n",
    "\t#  e.g., using a global variable \"verbosity_level\"\n",
    " \n",
    "\t# print \"Initialised the backpointer data structure:\"\n",
    "\t# pretty_print_array(backpointer)\n",
    " \n",
    "\t# a data structure to hold the shortest \"global distance so far\"\n",
    "\t#  this is an array (implemented as a list of lists) \n",
    "\tglobal_distance=[]\n",
    "\tdummy_value=-1\n",
    "\tfor i in range(len(template)):\n",
    "\t\tthis_row=[]\n",
    "\t\tfor j in range(len(test)):\n",
    "\t\t\tthis_row.append(dummy_value)\n",
    "\t\tglobal_distance.append(this_row)\n",
    " \n",
    "\t# print \"Initialised the global distance data structure:\"\n",
    "\t# pretty_print_array(global_distance)\n",
    " \n",
    "\t# visit every position in the global distance matrix\n",
    "\t#  in order\n",
    "\tfor i in range(len(template)):\n",
    "\t\tfor j in range(len(test)):\n",
    " \n",
    "\t\t\t# deal with the edge cases first\n",
    " \n",
    "\t\t\tif (i==0) and (j==0):\n",
    "\t\t\t\t# this is the starting point\n",
    "\t\t\t\t# the global distance is just the local distance here\n",
    "\t\t\t\t# because there are no incoming paths\n",
    "\t\t\t\tglobal_distance[i][j] = local_distance( template[i], test[j] )\n",
    "\t\t\t\tbackpointer[i][j] = (None,None)\n",
    " \n",
    "\t\t\telif (i==0):\n",
    "\t\t\t\t# incoming paths can only come from one direction: j-1\n",
    " \n",
    "\t\t\t\t# check that the necessary previous position has already been visited\n",
    "\t\t\t\tassert global_distance[i][j-1] >= 0\n",
    " \n",
    "\t\t\t\tglobal_distance[i][j] = global_distance[i][j-1] + local_distance( template[i], test[j] )\n",
    "\t\t\t\tbackpointer[i][j] = (i,j-1)\n",
    " \n",
    "\t\t\telif (j==0):\n",
    "\t\t\t\t# incoming paths can only come from one direction: i-1\n",
    " \n",
    "\t\t\t\t# check that the necessary previous position has already been visited\n",
    "\t\t\t\tassert global_distance[i-1][j] >= 0\n",
    " \n",
    "\t\t\t\tglobal_distance[i][j] = global_distance[i-1][j] + local_distance( template[i], test[j] )\n",
    "\t\t\t\tbackpointer[i][j] = (i-1,j)\n",
    " \n",
    " \n",
    "\t\t\telse:\n",
    "\t\t\t\t# the general case where paths can come from three directions\n",
    " \n",
    "\t\t\t\t# check that the necessary previous positions have already been visited\n",
    "\t\t\t\tassert global_distance[i][j-1]   >= 0\n",
    "\t\t\t\tassert global_distance[i-1][j]   >= 0\n",
    "\t\t\t\tassert global_distance[i-1][j-1] >= 0\n",
    " \n",
    " \n",
    "\t\t\t\t# this is where the Dynamic Programming happens !\n",
    " \n",
    "\t\t\t\tlowest_global_distance = global_distance[i-1][j]\n",
    "\t\t\t\tbackpointer[i][j] = (i-1,j)\n",
    " \n",
    "\t\t\t\tif global_distance[i][j-1] < lowest_global_distance:\n",
    "\t\t\t\t\tlowest_global_distance = global_distance[i][j-1]\n",
    "\t\t\t\t\tbackpointer[i][j] = (i,j-1)\n",
    " \n",
    "\t\t\t\tif global_distance[i-1][j-1] < lowest_global_distance:\n",
    "\t\t\t\t\tlowest_global_distance = global_distance[i-1][j-1]\n",
    "\t\t\t\t\tbackpointer[i][j] = (i-1,j-1)\n",
    " \n",
    " \n",
    "\t\t\t\tglobal_distance[i][j] = lowest_global_distance + local_distance( template[i], test[j] )\n",
    " \n",
    " \n",
    " \n",
    "\t# the best possible global distance is just the value in the \"last\" corner of the matrix\n",
    "\t#  (remembering that everything is indexed from 0)\n",
    "\tD = global_distance[len(template)-1][len(test)-1]\n",
    " \n",
    " \n",
    "\t# Exercise: perform the backtracing using a recursive function instead of a while loop\n",
    " \n",
    "\t# now do the backtrace\n",
    "\talignment=[]\n",
    " \n",
    "\t# start at the end - the last frame of the template aligns with the last frame of the test signal\n",
    "\ti,j = len(template)-1 , len(test)-1\n",
    "\talignment.append( (i,j) )\n",
    " \n",
    "\t# only stop backtracing when BOTH i and j are 0\n",
    "\t#  if only ONE of them is 0, we are simply at an edge, but not the beginning\n",
    "\twhile ( (i!=0) or (j!=0) ):\n",
    " \n",
    "\t\talignment.append(backpointer[i][j])\n",
    "\t\ti,j = backpointer[i][j]\n",
    " \n",
    "\t#  reverse the alignment list so it is in the same order as the template and test signals\n",
    "\t#  (i.e., so that time runs forwards!)\n",
    "\talignment.reverse()\n",
    " \n",
    "\t# return the global distance and the alignment\n",
    "\treturn D, alignment"
   ]
  },
  {
   "cell_type": "code",
   "execution_count": 19,
   "metadata": {
    "collapsed": false
   },
   "outputs": [],
   "source": [
    "templates=[]\n",
    "templates.append( np.array([3, 2, 1, 2, 3, 3, 3]) )\n",
    "# templates.append( np.array([1, 1, 2, 3, 4, 3, 2]) )\n",
    "test =            np.array([1, 2, 3, 2, 1])"
   ]
  },
  {
   "cell_type": "code",
   "execution_count": 21,
   "metadata": {
    "collapsed": false
   },
   "outputs": [
    {
     "name": "stdout",
     "output_type": "stream",
     "text": [
      "Distance from template [3 2 1 2 3 3 3] to test [1 2 3 2 1] is 6.0\n",
      "Alignment (0, 0) :  3  aligns with 1\n",
      "Alignment (1, 1) :  2  aligns with 2\n",
      "Alignment (2, 1) :  1  aligns with 2\n",
      "Alignment (3, 1) :  2  aligns with 2\n",
      "Alignment (4, 2) :  3  aligns with 3\n",
      "Alignment (5, 2) :  3  aligns with 3\n",
      "Alignment (6, 2) :  3  aligns with 3\n",
      "Alignment (6, 3) :  3  aligns with 2\n",
      "Alignment (6, 4) :  3  aligns with 1\n"
     ]
    }
   ],
   "source": [
    "\"\"\"\n",
    "The main function.\n",
    "Sets up some test templates and a test signal and uses DTW to compare them\n",
    "\"\"\"\n",
    "# hardcoded data to avoid having to load from a file\n",
    "\n",
    "# Exercise: improve the code so that it will handle sequences of vectors, such as\n",
    "# templates=[]\n",
    "# templates.append( [ [3,3,2], [2,1,2], [1,2,2], [2,2,3] ] )\n",
    "# templates.append( [ [1,1,1], [1,1,2], [2,2,3], [3,2,4], [4,1,5] ] )\n",
    "# test =            [ [1,1,2], [2,2,4], [3,3,4], [2,4,3] ]\n",
    "\n",
    "# Exercise: add the ability to load the templates and the test signal from files\n",
    "\n",
    "aln = []\n",
    "for t in templates:\n",
    "    D, alignment = dtw(t, test)\n",
    "    print \"Distance from template\",t,\"to test\",test,\"is\", D\n",
    "\n",
    "    for (i,j) in alignment:\n",
    "        print \"Alignment\",(i,j),\": \",t[i],\" aligns with\", test[j]\n",
    "        aln.append(test[j])"
   ]
  },
  {
   "cell_type": "code",
   "execution_count": 29,
   "metadata": {
    "collapsed": false
   },
   "outputs": [
    {
     "data": {
      "text/plain": [
       "[<matplotlib.lines.Line2D at 0x7f67e8a77ed0>]"
      ]
     },
     "execution_count": 29,
     "metadata": {},
     "output_type": "execute_result"
    },
    {
     "data": {
      "image/png": "[encoded data removed]",
      "text/plain": [
       "<matplotlib.figure.Figure at 0x7f67e8c118d0>"
      ]
     },
     "metadata": {},
     "output_type": "display_data"
    }
   ],
   "source": [
    "plt.plot(templates[0], 'ro--')\n",
    "# plt.plot(templates[1])\n",
    "plt.plot(test, 'bx-')\n",
    "plt.plot(aln, 'g^--')"
   ]
  },
  {
   "cell_type": "code",
   "execution_count": null,
   "metadata": {
    "collapsed": true
   },
   "outputs": [],
   "source": []
  }
 ],
 "metadata": {
  "kernelspec": {
   "display_name": "Python [conda root]",
   "language": "python",
   "name": "conda-root-py"
  },
  "language_info": {
   "codemirror_mode": {
    "name": "ipython",
    "version": 2
   },
   "file_extension": ".py",
   "mimetype": "text/x-python",
   "name": "python",
   "nbconvert_exporter": "python",
   "pygments_lexer": "ipython2",
   "version": "2.7.12"
  }
 },
 "nbformat": 4,
 "nbformat_minor": 1
}
