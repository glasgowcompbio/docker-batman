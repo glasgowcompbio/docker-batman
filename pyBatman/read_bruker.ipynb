{
 "cells": [
  {
   "cell_type": "markdown",
   "metadata": {},
   "source": [
    "# read_bruker"
   ]
  },
  {
   "cell_type": "code",
   "execution_count": 1,
   "metadata": {
    "collapsed": false
   },
   "outputs": [
    {
     "data": {
      "text/html": [
       "<script>requirejs.config({paths: { 'plotly': ['https://cdn.plot.ly/plotly-latest.min']},});if(!window.Plotly) {{require(['plotly'],function(plotly) {window.Plotly=plotly;});}}</script>"
      ],
      "text/plain": [
       "<IPython.core.display.HTML object>"
      ]
     },
     "metadata": {},
     "output_type": "display_data"
    }
   ],
   "source": [
    "%load_ext autoreload\n",
    "%autoreload 2\n",
    "%matplotlib inline\n",
    "\n",
    "# initialise plotly in offline mode\n",
    "from plotly.offline import init_notebook_mode\n",
    "init_notebook_mode(connected=True)"
   ]
  },
  {
   "cell_type": "code",
   "execution_count": 2,
   "metadata": {
    "collapsed": false
   },
   "outputs": [],
   "source": [
    "import os\n",
    "import errno\n",
    "import datetime\n",
    "import tempfile\n",
    "from distutils.dir_util import copy_tree\n",
    "\n",
    "import nmrglue as ng\n",
    "\n",
    "import pylab as plt\n",
    "import matplotlib\n",
    "import numpy as np\n",
    "import pandas as pd\n",
    "import matplotlib.pyplot as plt\n",
    "import seaborn as sns\n",
    "from IPython.display import display, HTML\n",
    "\n",
    "from batman import PyBatman, PyBatmanOptions, Database, Metabolite"
   ]
  },
  {
   "cell_type": "code",
   "execution_count": 3,
   "metadata": {
    "collapsed": true
   },
   "outputs": [],
   "source": [
    "import warnings\n",
    "warnings.filterwarnings(\"ignore\") # supress annoying warnings"
   ]
  },
  {
   "cell_type": "code",
   "execution_count": 4,
   "metadata": {
    "collapsed": true
   },
   "outputs": [],
   "source": [
    "input_dirs = [\n",
    "    '/home/rstudio/NMR/Maria_25_07_2016/data/bruker/normal_serum/Maria_serum_b_1',\n",
    "]\n",
    "pattern = 'cpmg'\n",
    "working_dir = 'test/temp'"
   ]
  },
  {
   "cell_type": "code",
   "execution_count": 5,
   "metadata": {
    "collapsed": false
   },
   "outputs": [],
   "source": [
    "# see http://stackoverflow.com/questions/3925096/how-to-get-only-the-last-part-of-a-path-in-python\n",
    "labels = []\n",
    "for input_dir in input_dirs:\n",
    "    last = os.path.basename(os.path.normpath(input_dir))\n",
    "    labels.append(last)"
   ]
  },
  {
   "cell_type": "code",
   "execution_count": 6,
   "metadata": {
    "collapsed": true
   },
   "outputs": [],
   "source": [
    "def get_matching_paths(input_dirs, pattern):\n",
    "\n",
    "    matching = []\n",
    "    for input_dir in input_dirs:\n",
    "\n",
    "        # find all the child directories\n",
    "        sub_dirs = [os.path.join(input_dir, x) for x in os.listdir(input_dir)]\n",
    "        for path in sub_dirs:\n",
    "\n",
    "            # check the pulse program if it exists\n",
    "            if os.path.isdir(path):\n",
    "                pp = os.path.join(path, 'pulseprogram')\n",
    "                if os.path.isfile(pp): # if exists\n",
    "\n",
    "                    # if it contains the pattern then store this path\n",
    "                    with open(pp, 'r') as f:\n",
    "                        head = [next(f) for x in xrange(2)]\n",
    "                        if pattern in head[1]:\n",
    "                            matching.append(path)\n",
    "\n",
    "    return matching"
   ]
  },
  {
   "cell_type": "code",
   "execution_count": 7,
   "metadata": {
    "collapsed": false
   },
   "outputs": [
    {
     "name": "stdout",
     "output_type": "stream",
     "text": [
      "Found spectra matching pattern 'cpmg':\n",
      "- /home/rstudio/NMR/Maria_25_07_2016/data/bruker/normal_serum/Maria_serum_b_1/422\n"
     ]
    }
   ],
   "source": [
    "# extract spectra name\n",
    "matching = get_matching_paths(input_dirs, pattern)\n",
    "print \"Found spectra matching pattern '%s':\" % pattern\n",
    "for s in matching:\n",
    "    print '-', s"
   ]
  },
  {
   "cell_type": "code",
   "execution_count": 8,
   "metadata": {
    "collapsed": false
   },
   "outputs": [
    {
     "name": "stdout",
     "output_type": "stream",
     "text": [
      "Working directory = test/temp\n",
      "- batman_input = test/temp/20161028_213221_S0D3z8/runBATMAN/BatmanInput\n",
      "- batman_output = test/temp/20161028_213221_S0D3z8/runBATMAN/BatmanOutput\n"
     ]
    }
   ],
   "source": [
    "def _mkdir_p(path):\n",
    "    try:\n",
    "        os.makedirs(path)\n",
    "    except OSError as exc:  # Python >2.5\n",
    "        if exc.errno == errno.EEXIST and os.path.isdir(path):\n",
    "            pass\n",
    "        else:\n",
    "            raise\n",
    "            \n",
    "# create working directory\n",
    "_mkdir_p(working_dir)\n",
    "prefix = datetime.datetime.now().strftime(\"%G%m%d_%H%M%S_\")\n",
    "temp_dir = tempfile.mkdtemp(prefix=prefix, dir=working_dir)\n",
    "batman_dir = os.path.join(temp_dir, 'runBATMAN')\n",
    "batman_input = os.path.join(batman_dir, 'BatmanInput')\n",
    "batman_output = os.path.join(batman_dir, 'BatmanOutput')\n",
    "_mkdir_p(batman_input)\n",
    "_mkdir_p(batman_output)\n",
    "print 'Working directory =', working_dir\n",
    "print '- batman_input =', batman_input\n",
    "print '- batman_output =', batman_output"
   ]
  },
  {
   "cell_type": "code",
   "execution_count": 9,
   "metadata": {
    "collapsed": true
   },
   "outputs": [],
   "source": [
    "def _prepare_data(matching, data_dir):\n",
    "    out_dirs = []\n",
    "    for f in range(len(matching)):\n",
    "        path = matching[f]\n",
    "        out_dir = os.path.join(data_dir, 'pdata', str(f))\n",
    "        _mkdir_p(out_dir)\n",
    "        print 'Copied spectra to', out_dir\n",
    "        copy_tree(path, out_dir)\n",
    "        out_dirs.append(out_dir)\n",
    "    return out_dirs"
   ]
  },
  {
   "cell_type": "code",
   "execution_count": 12,
   "metadata": {
    "collapsed": false
   },
   "outputs": [
    {
     "name": "stdout",
     "output_type": "stream",
     "text": [
      "Copied spectra to test/temp/20161028_213221_S0D3z8/runBATMAN/data/pdata/0\n"
     ]
    }
   ],
   "source": [
    "batman_data = os.path.join(batman_dir, 'data')\n",
    "temp_data = _prepare_data(matching, batman_data)"
   ]
  },
  {
   "cell_type": "code",
   "execution_count": 10,
   "metadata": {
    "collapsed": true
   },
   "outputs": [],
   "source": [
    "def _load_single_spectra(spectra_dir):\n",
    "\n",
    "    p_data = os.path.join(spectra_dir, 'pdata/1')\n",
    "    print 'Processing', p_data\n",
    "\n",
    "    dic, data = ng.bruker.read_pdata(p_data)\n",
    "    udic = ng.bruker.guess_udic(dic, data)\n",
    "    uc = ng.fileiobase.uc_from_udic(udic, 0)\n",
    "    # print dic.keys(), udic.keys()\n",
    "    # print uc.ppm_limits()\n",
    "    # print uc.ppm_scale()\n",
    "    # print len(uc.ppm_scale())\n",
    "\n",
    "    x = []\n",
    "    y = []\n",
    "    for ppm in uc.ppm_scale():\n",
    "        x.append(ppm)\n",
    "        y.append(data[uc(ppm, 'ppm')])\n",
    "    x = np.array(x)\n",
    "    y = np.array(y)\n",
    "\n",
    "    return x, y"
   ]
  },
  {
   "cell_type": "code",
   "execution_count": 11,
   "metadata": {
    "collapsed": true
   },
   "outputs": [],
   "source": [
    "def _load_data_with_nmrglue(input_dirs):\n",
    "    spectra = []\n",
    "    for input_dir in input_dirs:\n",
    "        x, y = _load_single_spectra(input_dir)\n",
    "        spectra.append(y)\n",
    "    combined = [x]\n",
    "    combined.extend(spectra)\n",
    "    combined = np.array(combined).transpose()\n",
    "    print 'Loaded', combined.shape\n",
    "    return combined"
   ]
  },
  {
   "cell_type": "code",
   "execution_count": 13,
   "metadata": {
    "collapsed": false
   },
   "outputs": [
    {
     "name": "stdout",
     "output_type": "stream",
     "text": [
      "Processing test/temp/20161028_213221_S0D3z8/runBATMAN/data/pdata/0/pdata/1\n",
      "Getting from raw_dic\n",
      "FQ3LIST ------ \n",
      "DSPFVS ------ 21\n",
      "GPNAM ------ ['', '', '', '', '', '', '', '', '', '', '', '', '', '', '', '', '', '', '', '', '', '', '', '', '', '', '', '', '', '', '', '']\n",
      "VALIST ------ \n",
      "SPNAM ------ ['', 'Gaus1_270.1000', 'Gaus1_180r.1000', '', '', 'Sinc1.1000', 'Squa100.1000', '', 'Squa100.1000', '', 'Sinc1.1000', 'Sinc1.1000', '', '', '', '', '', '', '', 'Sinc1.1000', 'Sinc1.1000', 'Sinc1.1000', 'Sinc1.1000', '', '', '', '', '', '', 'Crp60,20,20.10', 'Bip720,50,20.1', '', '', '', 'Gaus1_180r.1000', '', '', '', '', '', '', '', '', '', '', '', '', '', '', '', '', '', '', '', '', '', '', '', '', '', '', '', '', '']\n",
      "PHP ------ 1\n",
      "EXP ------ hS_LMWM_5mm_130430\n",
      "O8 ------ 2822.11\n",
      "O7 ------ 2822.11\n",
      "O6 ------ 2822.11\n",
      "O5 ------ 2822.11\n",
      "NusTD ------ 0\n",
      "O3 ------ 2822.11\n",
      "O2 ------ 2822.11\n",
      "O1 ------ 2821.20999998\n",
      "TE3 ------ 0\n",
      "FQ7LIST ------ \n",
      "ANAVPT ------ -1\n",
      "FQ1LIST ------ \n",
      "SPW ------ [0, 4.7352e-06, 2.1045e-06, 0, 0, 0.0016447, 1.2945e-05, 0, 5.704e-08, 0, 0.0016447, 0.0016447, 0, 0, 0, 0, 0, 0, 0, 3.359341e-06, 5.221986e-06, 2.438297e-06, 1.314954e-05, 0, 0, 0, 0, 0, 0, 0.021788, 0.91264, 0, 0, 0, 2.1045e-06, 0, 0, 0, 0, 0, 0, 0, 0, 0, 0, 0, 0, 0, 0, 0, 0, 0, 0, 0, 0, 0, 0, 0, 0, 0, 0, 0, 0, 0]\n",
      "BF3 ------ 600.01\n",
      "BF2 ------ 600.01\n",
      "BF1 ------ 600.01\n",
      "RG ------ 50.8\n",
      "BF7 ------ 600.01\n",
      "BF6 ------ 600.01\n",
      "BF5 ------ 600.01\n",
      "BF4 ------ 600.01\n",
      "BF8 ------ 600.01\n",
      "PHCOR ------ [0, 0, 0, 0, 0, 0, 0, 0, 0, 0, 0, 0, 0, 0, 0, 0, 0, 0, 0, 0, 0, 0, 0, 0, 0, 0, 0, 0, 0, 0, 0, 0]\n",
      "PRECHAN ------ [-1, 3, 0, 1, 4, -1, -1, -1, -1, -1, -1, -1, -1, -1, -1, -1]\n",
      "WBST ------ 1024\n",
      "PULPROG ------ cpmgpr1d\n",
      "HDRATE ------ 1\n",
      "D ------ [0, 3, 0, 0, 0, 0, 0, 0, 0, 0, 0, 0.03, 2e-05, 0, 0, 0, 0.0002, 0, 0, 0, 0.00040297, 0, 0, 0, 0, 0, 0, 0, 0, 0, 0, 0, 0, 0, 0, 0, 0, 0, 0, 0, 0, 0, 0, 0, 0, 0, 0, 0, 0, 0, 0, 0, 0, 0, 0, 0, 0, 0, 0, 0, 0, 0, 0, 0]\n",
      "LOCKPOW ------ -18\n",
      "L ------ [1, 1, 1, 1, 94, 1, 1, 1, 1, 1, 1, 1, 1, 1, 1, 1, 1, 1, 1, 1, 1, 1, 1, 1, 1, 1, 1, 1, 1, 1, 1, 1]\n",
      "P ------ [12.05, 12.05, 24.1, 0, 0, 17.16, 26, 52, 20000, 0, 0, 80000, 80000, 1000, 0, 0, 1000, 2500, 100000, 600, 0, 0, 0, 0, 0, 84, 100000, 8, 0, 1000, 0, 0, 20000, 0, 0, 0, 0, 0, 0, 0, 2000, 0, 0, 0, 200, 0, 80000, 0, 0, 0, 0, 0, 0, 0, 0, 0, 0, 0, 0, 0, 0, 0, 0, 0]\n",
      "YMAX_a ------ 897139\n",
      "GPX ------ [0, 0, 0, 0, 0, 0, 0, 0, 0, 0, 0, 0, 0, 0, 0, 0, 0, 0, 0, 0, 0, 0, 0, 0, 0, 0, 0, 0, 0, 0, 0, 0]\n",
      "GPY ------ [0, 0, 0, 0, 0, 0, 0, 0, 0, 0, 0, 0, 0, 0, 0, 0, 0, 0, 0, 0, 0, 0, 0, 0, 0, 0, 0, 0, 0, 0, 0, 0]\n",
      "GPZ ------ [0, 0, 0, 0, 0, 0, 0, 0, 0, 0, 0, 0, 0, 0, 0, 0, 0, 0, 0, 0, 0, 0, 0, 0, 0, 0, 0, 0, 0, 0, 0, 0]\n",
      "DECSTAT ------ 4\n",
      "LGAIN ------ -5\n",
      "SOLVENT ------ Plasma\n",
      "RECPRE ------ [-1, 0, -1, -1, -1, -1, -1, -1, -1, -1, -1, -1, -1, -1, -1, -1]\n",
      "TD ------ 81920\n",
      "FQ2LIST ------ \n",
      "DECBNUC ------ off\n",
      "TUNHIN ------ 0\n",
      "NusT2 ------ 1\n",
      "ZGOPTNS ------ \n",
      "CHEMSTR ------ none\n",
      "NOVFLW ------ 0\n",
      "LOCKGN ------ 119.194702148\n",
      "CFRGTYP ------ 9\n",
      "CAGPARS ------ [0, 0, 0, 0, 0, 0, 0, 0, 0, 0, 0, 0]\n",
      "RSEL ------ [0, 0, 2, 0, 0, 0, 0, 0, 0, 0, 0, 0, 0, 0, 0, 0]\n",
      "NLOGCH ------ 4\n",
      "GRDPROG ------ \n",
      "FnMODE ------ 0\n",
      "TUNHOUT ------ 0\n",
      "PH_ref ------ 0\n",
      "CNST ------ [1, 1, 1, 1, 1, 1, 1, 1, 1, 1, 1, 1, 1, 1, 1, 1, 1, 1, 1, 1, 1, 1, 1, 1, 1, 1, 1, 1, 1, 1, 1, 1, 1, 1, 1, 1, 1, 1, 1, 1, 1, 1, 1, 1, 1, 1, 1, 1, 1, 1, 1, 1, 1, 1, 1, 1, 1, 1, 1, 1, 1, 1, 1, 1]\n",
      "NusFPNZ ------ False\n",
      "FQ6LIST ------ \n",
      "TE_PIDX ------ 1\n",
      "HL4 ------ 0\n",
      "HL3 ------ 0\n",
      "HL2 ------ 0\n",
      "HL1 ------ 0\n",
      "HPMOD ------ [0, 0, 0, 0, 0, 0, 0, 0]\n",
      "FTLPGN ------ 0\n",
      "VCLIST ------ \n",
      "TE_STAB ------ [2, 2, 0, 0, 0, 0, 0, 0, 0, 0]\n",
      "PAPS ------ 0\n",
      "PR ------ 1\n",
      "DIGTYP ------ 12\n",
      "O4 ------ 2822.11\n",
      "PW ------ 0\n",
      "ROUTWD2 ------ [0, 2, 2, 2, 2, 2, 2, 2, 0, 0, 0, 0, 0, 0, 0, 0, 0, 0, 1, 0, 1, 1, 0, 0]\n",
      "PROBHD ------ 5 mm CPTCI 1H-13C/15N/D Z-GRD Z44896/0033\n",
      "\n",
      "BYTORDA ------ 0\n",
      "AUNM ------ au_prof\n",
      "HDDUTY ------ 20\n",
      "AMP ------ [100, 100, 100, 100, 100, 100, 100, 100, 100, 100, 100, 100, 100, 100, 100, 100, 100, 100, 100, 100, 100, 100, 100, 100, 100, 100, 100, 100, 100, 100, 100, 100]\n",
      "MULEXPNO ------ [0, 0, 0, 0, 0, 0, 0, 0, 0, 0, 0, 0, 0, 0, 0, 0]\n",
      "PL ------ [120, 120, 120, 120, 120, 120, 120, 120, 120, 120, 120, 120, 120, 120, 120, 120, 120, 120, 120, 120, 120, 120, 120, 120, 120, 120, 120, 120, 120, 120, 120, 120, 120, 120, 120, 120, 120, 120, 120, 120, 120, 120, 120, 120, 120, 120, 120, 120, 120, 120, 120, 120, 120, 120, 120, 120, 120, 120, 120, 120, 120, 120, 120, 120]\n",
      "SPOFFS ------ [0, 0, 0, 0, 0, 0, 0, 0, 0, 0, 0, 0, 0, 0, 0, 0, 0, 0, 0, 0, 0, 0, 0, 0, 0, 0, 0, 0, 0, 0, 0, 0, 0, 0, 0, 0, 0, 0, 0, 0, 0, 0, 0, 0, 0, 0, 0, 0, 0, 0, 0, 0, 0, 0, 0, 0, 0, 0, 0, 0, 0, 0, 0, 0]\n",
      "PLSTRT ------ -6\n",
      "FOV ------ 0\n",
      "RECPRFX ------ [1, 0, 0, 0, 0, 0, 0, 0, 0, 0, 0, 0, 0, 0, 0, 0]\n",
      "LOCPHAS ------ 219.7004\n",
      "DSPFIRM ------ 4\n",
      "DECNUC ------ off\n",
      "S ------ [83, 83, 83, 83, 83, 83, 83, 83]\n",
      "SWIBOX ------ [0, 0, 2, 0, 0, 0, 0, 0, 0, 0, 0, 0, 0, 0, 0, 0, 0, 0, 0, 0]\n",
      "F2LIST ------ \n",
      "PYNM ------ \n",
      "GRPDLY ------ 76\n",
      "_comments ------ ['$$ 2016-07-26 16:26:10.194 +0100  naomi@bionmr600', '$$ /opt/nmrdata/data/naomi/nmr/Maria_serum_b_1/422/acqus', '$$ process /opt/topspin3.2pl6/prog/mod/shimcntl']\n",
      "FQ8LIST ------ \n",
      "SWfinal ------ 0\n",
      "FRQLO3 ------ 299678.79\n",
      "LOCKED ------ True\n",
      "SPPEX ------ [0, 0, 0, 0, 0, 0, 0, 0, 0, 0, 0, 0, 0, 0, 0, 0, 0, 0, 0, 0, 0, 0, 0, 0, 0, 0, 0, 0, 0, 0, 0, 0, 0, 0, 0, 0, 0, 0, 0, 0, 0, 0, 0, 0, 0, 0, 0, 0, 0, 0, 0, 0, 0, 0, 0, 0, 0, 0, 0, 0, 0, 0, 0, 0]\n",
      "FL1 ------ 0\n",
      "FL3 ------ 0\n",
      "FL2 ------ 0\n",
      "INP ------ [0, 0, 0, 0, 0, 0, 0, 0, 0, 0, 0, 0, 0, 0, 0, 0, 0, 0, 0, 0, 0, 0, 0, 0, 0, 0, 0, 0, 0, 0, 0, 0, 0, 0, 0, 0, 0, 0, 0, 0, 0, 0, 0, 0, 0, 0, 0, 0, 0, 0, 0, 0, 0, 0, 0, 0, 0, 0, 0, 0, 0, 0, 0, 0]\n",
      "FL4 ------ 0\n",
      "ZL4 ------ 120\n",
      "NUCLEUS ------ off\n",
      "ZL3 ------ 120\n",
      "V9 ------ 5\n",
      "INF ------ [0, 0, 0, 0, 0, 0, 0, 0]\n",
      "CFDGTYP ------ 0\n",
      "LOCKPPM ------ 4.69999980927\n",
      "ACQT0 ------ 0\n",
      "TUNXOUT ------ 0\n",
      "FS ------ [83, 83, 83, 83, 83, 83, 83, 83]\n",
      "SELREC ------ [0, 0, 0, 0, 0, 0, 0, 0, 0, 0]\n",
      "NUC8 ------ off\n",
      "FW ------ 625000\n",
      "NUC6 ------ off\n",
      "NUC7 ------ off\n",
      "NUC4 ------ off\n",
      "NUC5 ------ off\n",
      "NUC2 ------ off\n",
      "NUC3 ------ off\n",
      "NusSEED ------ 54321\n",
      "NUC1 ------ 1H\n",
      "PARMODE ------ 0\n",
      "NUSLIST ------ automatic\n",
      "PACOIL ------ [0, 0, 0, 0, 0, 0, 0, 0, 0, 0, 0, 0, 0, 0, 0, 0]\n",
      "RECPH ------ 0\n",
      "PLWMAX ------ [88, 0, 0, 0, 0, 0, 0, 0]\n",
      "ROUTWD1 ------ [0, 2, 2, 2, 2, 2, 2, 2, 0, 0, 0, 0, 0, 0, 0, 0, 0, 0, 0, 0, 1, 1, 0, 0]\n",
      "TD0 ------ 1\n",
      "HOLDER ------ 249\n",
      "SPOAL ------ [0.5, 1, 0.5, 0.5, 0.5, 0.5, 0.5, 0.5, 0.5, 0.5, 0.5, 0.5, 0.5, 0.5, 0.5, 0.5, 0.5, 0.5, 0.5, 1, 1, 1, 1, 0.5, 0.5, 0.5, 0.5, 0.5, 0.5, 0.5, 0.5, 0.5, 0.5, 0.5, 0.5, 0.5, 0.5, 0.5, 0.5, 0.5, 0.5, 0.5, 0.5, 0.5, 0.5, 0.5, 0.5, 0.5, 0.5, 0.5, 0.5, 0.5, 0.5, 0.5, 0.5, 0.5, 0.5, 0.5, 0.5, 0.5, 0.5, 0.5, 0.5, 0.5]\n",
      "RD ------ 0\n",
      "FQ4LIST ------ \n",
      "RECCHAN ------ [0, 2, 0, 0, 0, 0, 0, 0, 0, 0, 0, 0, 0, 0, 0, 0]\n",
      "LOCKFLD ------ -9736\n",
      "NC ------ -6\n",
      "VDLIST ------ \n",
      "TEG ------ 300\n",
      "MASR ------ 4200\n",
      "_coreheader ------ ['##TITLE= Parameter file, TOPSPIN\\t\\tVersion 3.2', '##JCAMPDX= 5.0', '##DATATYPE= Parameter Values', '##NPOINTS= 12\\t$$ modification sequence number', '##ORIGIN= Bruker BioSpin GmbH', '##OWNER= naomi']\n",
      "NBL ------ 1\n",
      "NS ------ 12\n",
      "RECSEL ------ [0, 0, 1, 0, 0, 0, 0, 0, 0, 0, 0, 0, 0, 0, 0, 0]\n",
      "MASRLST ------ masrlst\n",
      "DECIM ------ 1664\n",
      "XL ------ 0\n",
      "PQPHASE ------ 0\n",
      "INSTRUM ------ spect\n",
      "ZL1 ------ 120\n",
      "SFO6 ------ 600.01282211\n",
      "TE2 ------ 0\n",
      "PEXSEL ------ [1, 1, 1, 1, 1, 1, 1, 1, 1, 1]\n",
      "TE4 ------ 0\n",
      "PLW ------ [0, 8.9125, 0, 0, 0, 0, 0, 0, 0, 1.2945e-05, 0.84379, 0.07042, 0, 0, 0, 0, 0, 0, 8.9125, 0.11641, 0, 0, 0, 0, 0, 0, 0, 0.32336, 0, 0.84379, 0, 0, 9.1264e-07, 0, 0, 0, 0, 0, 0, 0, 0, 0, 0, 0, 0, 0, 0, 0, 0, 0, 0, 0, 0, 0, 0, 0, 0, 0, 0, 0, 0, 0, 0, 0]\n",
      "RO ------ 0\n",
      "QNP ------ 0\n",
      "AQ_mod ------ 3\n",
      "LINPSTP ------ 0\n",
      "AUTOPOS ------ 2  E1 - 249 \n",
      "SP ------ [120, 120, 120, 120, 120, 120, 120, 120, 120, 120, 120, 120, 120, 120, 120, 120, 120, 120, 120, 120, 120, 120, 120, 120, 120, 120, 120, 120, 120, 120, 120, 120, 120, 120, 120, 120, 120, 120, 120, 120, 120, 120, 120, 120, 120, 120, 120, 120, 120, 120, 120, 120, 120, 120, 120, 120, 120, 120, 120, 120, 120, 120, 120, 120]\n",
      "SW ------ 20.0316232326\n",
      "LOCSW ------ 0\n",
      "PQSCALE ------ 1\n",
      "NusJSP ------ 0\n",
      "FnTYPE ------ 0\n",
      "SFO8 ------ 600.01282211\n",
      "POWMOD ------ 0\n",
      "HPPRGN ------ 0\n",
      "YL ------ 0\n",
      "WBSW ------ 8\n",
      "DE ------ 12.57501\n",
      "F3LIST ------ \n",
      "DIGMOD ------ 3\n",
      "SW_h ------ 12019.2307692\n",
      "LFILTER ------ 100\n",
      "DATE ------ 1469546769\n",
      "PCPD ------ [0, 70, 0, 0, 0, 0, 0, 0, 0, 0]\n",
      "DR ------ 22\n",
      "DS ------ 0\n",
      "PRGAIN ------ 0\n",
      "USERA1 ------ \n",
      "LOCNUC ------ 2H\n",
      "USERA3 ------ \n",
      "SFO4 ------ 600.01282211\n",
      "USERA5 ------ \n",
      "FRQLO3N ------ 1\n",
      "HGAIN ------ [0, 0, 0, 0]\n",
      "F1LIST ------ \n",
      "TL ------ [120, 120, 120, 120, 120, 120, 120, 120]\n",
      "DQDMODE ------ 0\n",
      "AMPCOIL ------ [-1, 0, 0, 0, 0, 0, 0, 0, 0, 0, 0, 0, 0, 0, 0, 0, 0, 0, 0, 0]\n",
      "FCUCHAN ------ [0, 2, 0, 0, 0, 0, 0, 0, 0, 0]\n",
      "LOCSHFT ------ True\n",
      "TE ------ 310.1044\n",
      "VTLIST ------ \n",
      "TE1 ------ 312.2139\n",
      "VPLIST ------ \n",
      "FQ5LIST ------ \n",
      "VD ------ 0\n",
      "YMIN_a ------ -189860\n",
      "OVERFLW ------ 0\n",
      "ZL2 ------ 120\n",
      "USERA2 ------ \n",
      "LTIME ------ 0.34999999404\n",
      "SOLVOLD ------ off\n",
      "SUBNAM ------ ['', '', '', '', '', '', '', '', '', '']\n",
      "IN ------ [0, 0, 0, 0, 0, 0, 0, 0, 0, 0, 0, 0, 0, 0, 0, 0, 0, 0, 0, 0, 0, 0, 0, 0, 0, 0, 0, 0, 0, 0, 0, 0, 0, 0, 0, 0, 0, 0, 0, 0, 0, 0, 0, 0, 0, 0, 0, 0, 0, 0, 0, 0, 0, 0, 0, 0, 0, 0, 0, 0, 0, 0, 0, 0]\n",
      "USERA4 ------ \n",
      "SPINCNT ------ 0\n",
      "SFO2 ------ 600.01282211\n",
      "SFO3 ------ 600.01282211\n",
      "SFO1 ------ 600.01282121\n",
      "PLSTEP ------ 0.1\n",
      "SFO7 ------ 600.01282211\n",
      "PHLIST ------ \n",
      "SFO5 ------ 600.01282211\n",
      "SPECTR ------ 0\n",
      "AQSEQ ------ 0\n",
      "NusAMOUNT ------ 25\n",
      "DTYPA ------ 0\n",
      "CPDPRG ------ ['', '', '', '', '', '', '', '', '']\n",
      "XGAIN ------ [0, 0, 0, 0]\n",
      "Loaded (131072, 2)\n"
     ]
    }
   ],
   "source": [
    "spectra = _load_data_with_nmrglue(temp_data)"
   ]
  },
  {
   "cell_type": "code",
   "execution_count": 14,
   "metadata": {
    "collapsed": false
   },
   "outputs": [
    {
     "data": {
      "image/png": "[encoded data removed]",
      "text/plain": [
       "<matplotlib.figure.Figure at 0x7f2eed909550>"
      ]
     },
     "metadata": {},
     "output_type": "display_data"
    }
   ],
   "source": [
    "def plot_spectra(spectra):\n",
    "    plt.figure()\n",
    "    x = spectra[:, 0]\n",
    "    for n in range(1, spectra.shape[1]):\n",
    "        y = spectra[:, n]\n",
    "        plt.plot(x, y)\n",
    "    plt.xlim([-0.1, 5])\n",
    "    plt.gca().invert_xaxis()\n",
    "    plt.xlabel('ppm')\n",
    "    plt.ylabel('intensity')\n",
    "\n",
    "plot_spectra(spectra)"
   ]
  },
  {
   "cell_type": "code",
   "execution_count": null,
   "metadata": {
    "collapsed": true
   },
   "outputs": [],
   "source": []
  }
 ],
 "metadata": {
  "anaconda-cloud": {},
  "kernelspec": {
   "display_name": "Python [conda root]",
   "language": "python",
   "name": "conda-root-py"
  },
  "language_info": {
   "codemirror_mode": {
    "name": "ipython",
    "version": 2
   },
   "file_extension": ".py",
   "mimetype": "text/x-python",
   "name": "python",
   "nbconvert_exporter": "python",
   "pygments_lexer": "ipython2",
   "version": "2.7.12"
  }
 },
 "nbformat": 4,
 "nbformat_minor": 1
}
